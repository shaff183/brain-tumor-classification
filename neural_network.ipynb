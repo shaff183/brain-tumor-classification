{
 "cells": [
  {
   "cell_type": "code",
   "execution_count": 1,
   "metadata": {},
   "outputs": [
    {
     "name": "stderr",
     "output_type": "stream",
     "text": [
      "/Users/EricShaffer/opt/anaconda3/envs/PythonData/lib/python3.6/site-packages/tensorflow/python/framework/dtypes.py:516: FutureWarning: Passing (type, 1) or '1type' as a synonym of type is deprecated; in a future version of numpy, it will be understood as (type, (1,)) / '(1,)type'.\n",
      "  _np_qint8 = np.dtype([(\"qint8\", np.int8, 1)])\n",
      "/Users/EricShaffer/opt/anaconda3/envs/PythonData/lib/python3.6/site-packages/tensorflow/python/framework/dtypes.py:517: FutureWarning: Passing (type, 1) or '1type' as a synonym of type is deprecated; in a future version of numpy, it will be understood as (type, (1,)) / '(1,)type'.\n",
      "  _np_quint8 = np.dtype([(\"quint8\", np.uint8, 1)])\n",
      "/Users/EricShaffer/opt/anaconda3/envs/PythonData/lib/python3.6/site-packages/tensorflow/python/framework/dtypes.py:518: FutureWarning: Passing (type, 1) or '1type' as a synonym of type is deprecated; in a future version of numpy, it will be understood as (type, (1,)) / '(1,)type'.\n",
      "  _np_qint16 = np.dtype([(\"qint16\", np.int16, 1)])\n",
      "/Users/EricShaffer/opt/anaconda3/envs/PythonData/lib/python3.6/site-packages/tensorflow/python/framework/dtypes.py:519: FutureWarning: Passing (type, 1) or '1type' as a synonym of type is deprecated; in a future version of numpy, it will be understood as (type, (1,)) / '(1,)type'.\n",
      "  _np_quint16 = np.dtype([(\"quint16\", np.uint16, 1)])\n",
      "/Users/EricShaffer/opt/anaconda3/envs/PythonData/lib/python3.6/site-packages/tensorflow/python/framework/dtypes.py:520: FutureWarning: Passing (type, 1) or '1type' as a synonym of type is deprecated; in a future version of numpy, it will be understood as (type, (1,)) / '(1,)type'.\n",
      "  _np_qint32 = np.dtype([(\"qint32\", np.int32, 1)])\n",
      "/Users/EricShaffer/opt/anaconda3/envs/PythonData/lib/python3.6/site-packages/tensorflow/python/framework/dtypes.py:525: FutureWarning: Passing (type, 1) or '1type' as a synonym of type is deprecated; in a future version of numpy, it will be understood as (type, (1,)) / '(1,)type'.\n",
      "  np_resource = np.dtype([(\"resource\", np.ubyte, 1)])\n",
      "/Users/EricShaffer/opt/anaconda3/envs/PythonData/lib/python3.6/site-packages/tensorboard/compat/tensorflow_stub/dtypes.py:541: FutureWarning: Passing (type, 1) or '1type' as a synonym of type is deprecated; in a future version of numpy, it will be understood as (type, (1,)) / '(1,)type'.\n",
      "  _np_qint8 = np.dtype([(\"qint8\", np.int8, 1)])\n",
      "/Users/EricShaffer/opt/anaconda3/envs/PythonData/lib/python3.6/site-packages/tensorboard/compat/tensorflow_stub/dtypes.py:542: FutureWarning: Passing (type, 1) or '1type' as a synonym of type is deprecated; in a future version of numpy, it will be understood as (type, (1,)) / '(1,)type'.\n",
      "  _np_quint8 = np.dtype([(\"quint8\", np.uint8, 1)])\n",
      "/Users/EricShaffer/opt/anaconda3/envs/PythonData/lib/python3.6/site-packages/tensorboard/compat/tensorflow_stub/dtypes.py:543: FutureWarning: Passing (type, 1) or '1type' as a synonym of type is deprecated; in a future version of numpy, it will be understood as (type, (1,)) / '(1,)type'.\n",
      "  _np_qint16 = np.dtype([(\"qint16\", np.int16, 1)])\n",
      "/Users/EricShaffer/opt/anaconda3/envs/PythonData/lib/python3.6/site-packages/tensorboard/compat/tensorflow_stub/dtypes.py:544: FutureWarning: Passing (type, 1) or '1type' as a synonym of type is deprecated; in a future version of numpy, it will be understood as (type, (1,)) / '(1,)type'.\n",
      "  _np_quint16 = np.dtype([(\"quint16\", np.uint16, 1)])\n",
      "/Users/EricShaffer/opt/anaconda3/envs/PythonData/lib/python3.6/site-packages/tensorboard/compat/tensorflow_stub/dtypes.py:545: FutureWarning: Passing (type, 1) or '1type' as a synonym of type is deprecated; in a future version of numpy, it will be understood as (type, (1,)) / '(1,)type'.\n",
      "  _np_qint32 = np.dtype([(\"qint32\", np.int32, 1)])\n",
      "/Users/EricShaffer/opt/anaconda3/envs/PythonData/lib/python3.6/site-packages/tensorboard/compat/tensorflow_stub/dtypes.py:550: FutureWarning: Passing (type, 1) or '1type' as a synonym of type is deprecated; in a future version of numpy, it will be understood as (type, (1,)) / '(1,)type'.\n",
      "  np_resource = np.dtype([(\"resource\", np.ubyte, 1)])\n"
     ]
    }
   ],
   "source": [
    "# Importing dependencies \n",
    "import pandas as pd\n",
    "import os\n",
    "import tensorflow as tf\n",
    "from tensorflow.keras.models import Sequential\n",
    "from tensorflow.keras.utils import to_categorical\n",
    "from tensorflow.keras.layers import Dense\n",
    "import numpy as np"
   ]
  },
  {
   "cell_type": "code",
   "execution_count": 2,
   "metadata": {},
   "outputs": [
    {
     "data": {
      "text/html": [
       "<div>\n",
       "<style scoped>\n",
       "    .dataframe tbody tr th:only-of-type {\n",
       "        vertical-align: middle;\n",
       "    }\n",
       "\n",
       "    .dataframe tbody tr th {\n",
       "        vertical-align: top;\n",
       "    }\n",
       "\n",
       "    .dataframe thead th {\n",
       "        text-align: right;\n",
       "    }\n",
       "</style>\n",
       "<table border=\"1\" class=\"dataframe\">\n",
       "  <thead>\n",
       "    <tr style=\"text-align: right;\">\n",
       "      <th></th>\n",
       "      <th>animal name</th>\n",
       "      <th>hair</th>\n",
       "      <th>feathers</th>\n",
       "      <th>eggs</th>\n",
       "      <th>milk</th>\n",
       "      <th>airborne</th>\n",
       "      <th>aquatic</th>\n",
       "      <th>predator</th>\n",
       "      <th>toothed</th>\n",
       "      <th>backbone</th>\n",
       "      <th>breathes</th>\n",
       "      <th>venomous</th>\n",
       "      <th>fins</th>\n",
       "      <th>legs</th>\n",
       "      <th>tail</th>\n",
       "      <th>domestic</th>\n",
       "      <th>catsize</th>\n",
       "      <th>type</th>\n",
       "    </tr>\n",
       "  </thead>\n",
       "  <tbody>\n",
       "    <tr>\n",
       "      <th>0</th>\n",
       "      <td>aardvark</td>\n",
       "      <td>1</td>\n",
       "      <td>0</td>\n",
       "      <td>0</td>\n",
       "      <td>1</td>\n",
       "      <td>0</td>\n",
       "      <td>0</td>\n",
       "      <td>1</td>\n",
       "      <td>1</td>\n",
       "      <td>1</td>\n",
       "      <td>1</td>\n",
       "      <td>0</td>\n",
       "      <td>0</td>\n",
       "      <td>4</td>\n",
       "      <td>0</td>\n",
       "      <td>0</td>\n",
       "      <td>1</td>\n",
       "      <td>1</td>\n",
       "    </tr>\n",
       "    <tr>\n",
       "      <th>1</th>\n",
       "      <td>antelope</td>\n",
       "      <td>1</td>\n",
       "      <td>0</td>\n",
       "      <td>0</td>\n",
       "      <td>1</td>\n",
       "      <td>0</td>\n",
       "      <td>0</td>\n",
       "      <td>0</td>\n",
       "      <td>1</td>\n",
       "      <td>1</td>\n",
       "      <td>1</td>\n",
       "      <td>0</td>\n",
       "      <td>0</td>\n",
       "      <td>4</td>\n",
       "      <td>1</td>\n",
       "      <td>0</td>\n",
       "      <td>1</td>\n",
       "      <td>1</td>\n",
       "    </tr>\n",
       "    <tr>\n",
       "      <th>2</th>\n",
       "      <td>bass</td>\n",
       "      <td>0</td>\n",
       "      <td>0</td>\n",
       "      <td>1</td>\n",
       "      <td>0</td>\n",
       "      <td>0</td>\n",
       "      <td>1</td>\n",
       "      <td>1</td>\n",
       "      <td>1</td>\n",
       "      <td>1</td>\n",
       "      <td>0</td>\n",
       "      <td>0</td>\n",
       "      <td>1</td>\n",
       "      <td>0</td>\n",
       "      <td>1</td>\n",
       "      <td>0</td>\n",
       "      <td>0</td>\n",
       "      <td>4</td>\n",
       "    </tr>\n",
       "    <tr>\n",
       "      <th>3</th>\n",
       "      <td>bear</td>\n",
       "      <td>1</td>\n",
       "      <td>0</td>\n",
       "      <td>0</td>\n",
       "      <td>1</td>\n",
       "      <td>0</td>\n",
       "      <td>0</td>\n",
       "      <td>1</td>\n",
       "      <td>1</td>\n",
       "      <td>1</td>\n",
       "      <td>1</td>\n",
       "      <td>0</td>\n",
       "      <td>0</td>\n",
       "      <td>4</td>\n",
       "      <td>0</td>\n",
       "      <td>0</td>\n",
       "      <td>1</td>\n",
       "      <td>1</td>\n",
       "    </tr>\n",
       "    <tr>\n",
       "      <th>4</th>\n",
       "      <td>boar</td>\n",
       "      <td>1</td>\n",
       "      <td>0</td>\n",
       "      <td>0</td>\n",
       "      <td>1</td>\n",
       "      <td>0</td>\n",
       "      <td>0</td>\n",
       "      <td>1</td>\n",
       "      <td>1</td>\n",
       "      <td>1</td>\n",
       "      <td>1</td>\n",
       "      <td>0</td>\n",
       "      <td>0</td>\n",
       "      <td>4</td>\n",
       "      <td>1</td>\n",
       "      <td>0</td>\n",
       "      <td>1</td>\n",
       "      <td>1</td>\n",
       "    </tr>\n",
       "  </tbody>\n",
       "</table>\n",
       "</div>"
      ],
      "text/plain": [
       "  animal name  hair  feathers  eggs  milk  airborne  aquatic  predator  \\\n",
       "0    aardvark     1         0     0     1         0        0         1   \n",
       "1    antelope     1         0     0     1         0        0         0   \n",
       "2        bass     0         0     1     0         0        1         1   \n",
       "3        bear     1         0     0     1         0        0         1   \n",
       "4        boar     1         0     0     1         0        0         1   \n",
       "\n",
       "   toothed  backbone  breathes  venomous  fins  legs  tail  domestic  catsize  \\\n",
       "0        1         1         1         0     0     4     0         0        1   \n",
       "1        1         1         1         0     0     4     1         0        1   \n",
       "2        1         1         0         0     1     0     1         0        0   \n",
       "3        1         1         1         0     0     4     0         0        1   \n",
       "4        1         1         1         0     0     4     1         0        1   \n",
       "\n",
       "   type  \n",
       "0     1  \n",
       "1     1  \n",
       "2     4  \n",
       "3     1  \n",
       "4     1  "
      ]
     },
     "execution_count": 2,
     "metadata": {},
     "output_type": "execute_result"
    }
   ],
   "source": [
    "# load in the zoo animal dataset\n",
    "zoo_animals = pd.read_csv(\"data/zoo_animals.csv\")\n",
    "zoo_animals.head()"
   ]
  },
  {
   "cell_type": "code",
   "execution_count": 3,
   "metadata": {},
   "outputs": [],
   "source": [
    "zoo_animals = zoo_animals.drop(columns=['animal name'])"
   ]
  },
  {
   "cell_type": "code",
   "execution_count": 4,
   "metadata": {},
   "outputs": [],
   "source": [
    "X = zoo_animals.iloc[:,:-1]\n",
    "Y = zoo_animals.iloc[:,-1]"
   ]
  },
  {
   "cell_type": "code",
   "execution_count": 5,
   "metadata": {},
   "outputs": [],
   "source": [
    "y = Y - 1"
   ]
  },
  {
   "cell_type": "code",
   "execution_count": 6,
   "metadata": {},
   "outputs": [
    {
     "name": "stdout",
     "output_type": "stream",
     "text": [
      "(101, 16)\n",
      "(101,)\n"
     ]
    }
   ],
   "source": [
    "print(X.shape)\n",
    "print(y.shape)"
   ]
  },
  {
   "cell_type": "code",
   "execution_count": 8,
   "metadata": {},
   "outputs": [
    {
     "data": {
      "text/plain": [
       "6"
      ]
     },
     "execution_count": 8,
     "metadata": {},
     "output_type": "execute_result"
    }
   ],
   "source": [
    "y.max()"
   ]
  },
  {
   "cell_type": "code",
   "execution_count": 9,
   "metadata": {},
   "outputs": [],
   "source": [
    "# Split data into train and testing sets\n",
    "from sklearn.model_selection import train_test_split\n",
    "\n",
    "X_train, X_test, y_train, y_test = train_test_split(X, y, random_state=1)"
   ]
  },
  {
   "cell_type": "code",
   "execution_count": 10,
   "metadata": {},
   "outputs": [],
   "source": [
    "# scaling our data\n",
    "from sklearn.preprocessing import StandardScaler\n",
    "\n",
    "X_scaler = StandardScaler().fit(X_train)"
   ]
  },
  {
   "cell_type": "code",
   "execution_count": 11,
   "metadata": {},
   "outputs": [],
   "source": [
    "# Transform the training and testing data using the X_scaler\n",
    "\n",
    "X_train_scaled = X_scaler.transform(X_train)\n",
    "X_test_scaled = X_scaler.transform(X_test)"
   ]
  },
  {
   "cell_type": "code",
   "execution_count": 12,
   "metadata": {},
   "outputs": [],
   "source": [
    "from tensorflow.keras.utils import to_categorical"
   ]
  },
  {
   "cell_type": "code",
   "execution_count": 13,
   "metadata": {},
   "outputs": [
    {
     "data": {
      "text/plain": [
       "array([[0., 0., 0., 0., 0., 1., 0.],\n",
       "       [1., 0., 0., 0., 0., 0., 0.],\n",
       "       [0., 0., 0., 1., 0., 0., 0.],\n",
       "       [1., 0., 0., 0., 0., 0., 0.],\n",
       "       [1., 0., 0., 0., 0., 0., 0.],\n",
       "       [0., 0., 0., 1., 0., 0., 0.],\n",
       "       [1., 0., 0., 0., 0., 0., 0.],\n",
       "       [1., 0., 0., 0., 0., 0., 0.],\n",
       "       [1., 0., 0., 0., 0., 0., 0.],\n",
       "       [0., 1., 0., 0., 0., 0., 0.],\n",
       "       [0., 0., 1., 0., 0., 0., 0.],\n",
       "       [1., 0., 0., 0., 0., 0., 0.],\n",
       "       [0., 0., 0., 0., 0., 0., 1.],\n",
       "       [0., 0., 0., 0., 0., 1., 0.],\n",
       "       [1., 0., 0., 0., 0., 0., 0.],\n",
       "       [0., 1., 0., 0., 0., 0., 0.],\n",
       "       [0., 0., 0., 1., 0., 0., 0.],\n",
       "       [0., 1., 0., 0., 0., 0., 0.],\n",
       "       [0., 1., 0., 0., 0., 0., 0.],\n",
       "       [1., 0., 0., 0., 0., 0., 0.],\n",
       "       [0., 0., 0., 0., 0., 0., 1.],\n",
       "       [1., 0., 0., 0., 0., 0., 0.],\n",
       "       [0., 1., 0., 0., 0., 0., 0.],\n",
       "       [1., 0., 0., 0., 0., 0., 0.],\n",
       "       [0., 0., 0., 1., 0., 0., 0.],\n",
       "       [0., 0., 0., 0., 1., 0., 0.],\n",
       "       [0., 0., 0., 0., 0., 0., 1.],\n",
       "       [0., 1., 0., 0., 0., 0., 0.],\n",
       "       [0., 1., 0., 0., 0., 0., 0.],\n",
       "       [0., 0., 0., 0., 0., 1., 0.],\n",
       "       [1., 0., 0., 0., 0., 0., 0.],\n",
       "       [0., 0., 1., 0., 0., 0., 0.],\n",
       "       [0., 0., 0., 0., 1., 0., 0.],\n",
       "       [1., 0., 0., 0., 0., 0., 0.],\n",
       "       [0., 1., 0., 0., 0., 0., 0.],\n",
       "       [0., 0., 0., 0., 0., 1., 0.],\n",
       "       [1., 0., 0., 0., 0., 0., 0.],\n",
       "       [1., 0., 0., 0., 0., 0., 0.],\n",
       "       [0., 0., 0., 0., 0., 1., 0.],\n",
       "       [1., 0., 0., 0., 0., 0., 0.],\n",
       "       [0., 0., 0., 0., 0., 0., 1.],\n",
       "       [0., 0., 0., 1., 0., 0., 0.],\n",
       "       [0., 0., 0., 1., 0., 0., 0.],\n",
       "       [1., 0., 0., 0., 0., 0., 0.],\n",
       "       [0., 0., 1., 0., 0., 0., 0.],\n",
       "       [0., 1., 0., 0., 0., 0., 0.],\n",
       "       [1., 0., 0., 0., 0., 0., 0.],\n",
       "       [0., 0., 0., 1., 0., 0., 0.],\n",
       "       [1., 0., 0., 0., 0., 0., 0.],\n",
       "       [0., 0., 0., 1., 0., 0., 0.],\n",
       "       [0., 0., 0., 0., 0., 1., 0.],\n",
       "       [0., 0., 0., 0., 0., 0., 1.],\n",
       "       [1., 0., 0., 0., 0., 0., 0.],\n",
       "       [0., 0., 0., 1., 0., 0., 0.],\n",
       "       [0., 0., 0., 0., 0., 0., 1.],\n",
       "       [1., 0., 0., 0., 0., 0., 0.],\n",
       "       [1., 0., 0., 0., 0., 0., 0.],\n",
       "       [0., 1., 0., 0., 0., 0., 0.],\n",
       "       [0., 0., 0., 1., 0., 0., 0.],\n",
       "       [0., 1., 0., 0., 0., 0., 0.],\n",
       "       [1., 0., 0., 0., 0., 0., 0.],\n",
       "       [0., 0., 0., 0., 1., 0., 0.],\n",
       "       [1., 0., 0., 0., 0., 0., 0.],\n",
       "       [0., 1., 0., 0., 0., 0., 0.],\n",
       "       [0., 0., 1., 0., 0., 0., 0.],\n",
       "       [1., 0., 0., 0., 0., 0., 0.],\n",
       "       [0., 1., 0., 0., 0., 0., 0.],\n",
       "       [1., 0., 0., 0., 0., 0., 0.],\n",
       "       [0., 1., 0., 0., 0., 0., 0.],\n",
       "       [1., 0., 0., 0., 0., 0., 0.],\n",
       "       [1., 0., 0., 0., 0., 0., 0.],\n",
       "       [1., 0., 0., 0., 0., 0., 0.],\n",
       "       [0., 0., 0., 0., 0., 0., 1.],\n",
       "       [0., 0., 0., 1., 0., 0., 0.],\n",
       "       [0., 1., 0., 0., 0., 0., 0.]], dtype=float32)"
      ]
     },
     "execution_count": 13,
     "metadata": {},
     "output_type": "execute_result"
    }
   ],
   "source": [
    " # One-hot encoding\n",
    "y_train_categorical = to_categorical(y_train)\n",
    "y_test_categorical = to_categorical(y_test)\n",
    "y_train_categorical"
   ]
  },
  {
   "cell_type": "code",
   "execution_count": 14,
   "metadata": {},
   "outputs": [],
   "source": [
    "from tensorflow.keras.models import Sequential\n",
    "\n",
    "model = Sequential()"
   ]
  },
  {
   "cell_type": "code",
   "execution_count": 15,
   "metadata": {},
   "outputs": [
    {
     "data": {
      "text/plain": [
       "7"
      ]
     },
     "execution_count": 15,
     "metadata": {},
     "output_type": "execute_result"
    }
   ],
   "source": [
    "len(y_train_categorical[0])"
   ]
  },
  {
   "cell_type": "code",
   "execution_count": 16,
   "metadata": {},
   "outputs": [
    {
     "name": "stdout",
     "output_type": "stream",
     "text": [
      "WARNING:tensorflow:From /Users/EricShaffer/opt/anaconda3/envs/PythonData/lib/python3.6/site-packages/tensorflow/python/ops/init_ops.py:1251: calling VarianceScaling.__init__ (from tensorflow.python.ops.init_ops) with dtype is deprecated and will be removed in a future version.\n",
      "Instructions for updating:\n",
      "Call initializer instance with the dtype argument instead of passing it to the constructor\n"
     ]
    }
   ],
   "source": [
    "from tensorflow.keras.layers import Dense\n",
    "number_inputs = X.shape[1]\n",
    "number_hidden_nodes = 4 * number_inputs\n",
    "model.add(Dense(units=number_hidden_nodes,activation='relu', input_dim=number_inputs))"
   ]
  },
  {
   "cell_type": "code",
   "execution_count": 17,
   "metadata": {},
   "outputs": [],
   "source": [
    "model.add(Dense(units=len(y_train_categorical[0]), activation='softmax'))"
   ]
  },
  {
   "cell_type": "code",
   "execution_count": 18,
   "metadata": {},
   "outputs": [
    {
     "name": "stdout",
     "output_type": "stream",
     "text": [
      "Model: \"sequential\"\n",
      "_________________________________________________________________\n",
      "Layer (type)                 Output Shape              Param #   \n",
      "=================================================================\n",
      "dense (Dense)                (None, 64)                1088      \n",
      "_________________________________________________________________\n",
      "dense_1 (Dense)              (None, 7)                 455       \n",
      "=================================================================\n",
      "Total params: 1,543\n",
      "Trainable params: 1,543\n",
      "Non-trainable params: 0\n",
      "_________________________________________________________________\n"
     ]
    }
   ],
   "source": [
    "# model summary\n",
    "model.summary() "
   ]
  },
  {
   "cell_type": "code",
   "execution_count": 19,
   "metadata": {},
   "outputs": [],
   "source": [
    "model.compile(optimizer='adam',\n",
    "              loss='categorical_crossentropy',\n",
    "              metrics=['accuracy'])"
   ]
  },
  {
   "cell_type": "code",
   "execution_count": 20,
   "metadata": {},
   "outputs": [
    {
     "name": "stdout",
     "output_type": "stream",
     "text": [
      "Epoch 1/100\n",
      "75/75 - 0s - loss: 2.1351 - acc: 0.0400\n",
      "Epoch 2/100\n",
      "75/75 - 0s - loss: 2.0014 - acc: 0.1867\n",
      "Epoch 3/100\n",
      "75/75 - 0s - loss: 1.8813 - acc: 0.2667\n",
      "Epoch 4/100\n",
      "75/75 - 0s - loss: 1.7655 - acc: 0.3067\n",
      "Epoch 5/100\n",
      "75/75 - 0s - loss: 1.6586 - acc: 0.3333\n",
      "Epoch 6/100\n",
      "75/75 - 0s - loss: 1.5570 - acc: 0.4800\n",
      "Epoch 7/100\n",
      "75/75 - 0s - loss: 1.4597 - acc: 0.6000\n",
      "Epoch 8/100\n",
      "75/75 - 0s - loss: 1.3725 - acc: 0.6667\n",
      "Epoch 9/100\n",
      "75/75 - 0s - loss: 1.2865 - acc: 0.6800\n",
      "Epoch 10/100\n",
      "75/75 - 0s - loss: 1.2079 - acc: 0.6800\n",
      "Epoch 11/100\n",
      "75/75 - 0s - loss: 1.1326 - acc: 0.6800\n",
      "Epoch 12/100\n",
      "75/75 - 0s - loss: 1.0643 - acc: 0.7067\n",
      "Epoch 13/100\n",
      "75/75 - 0s - loss: 1.0002 - acc: 0.7333\n",
      "Epoch 14/100\n",
      "75/75 - 0s - loss: 0.9396 - acc: 0.7467\n",
      "Epoch 15/100\n",
      "75/75 - 0s - loss: 0.8869 - acc: 0.7867\n",
      "Epoch 16/100\n",
      "75/75 - 0s - loss: 0.8347 - acc: 0.7867\n",
      "Epoch 17/100\n",
      "75/75 - 0s - loss: 0.7869 - acc: 0.8133\n",
      "Epoch 18/100\n",
      "75/75 - 0s - loss: 0.7439 - acc: 0.8267\n",
      "Epoch 19/100\n",
      "75/75 - 0s - loss: 0.7028 - acc: 0.8400\n",
      "Epoch 20/100\n",
      "75/75 - 0s - loss: 0.6648 - acc: 0.8400\n",
      "Epoch 21/100\n",
      "75/75 - 0s - loss: 0.6303 - acc: 0.8533\n",
      "Epoch 22/100\n",
      "75/75 - 0s - loss: 0.5975 - acc: 0.8667\n",
      "Epoch 23/100\n",
      "75/75 - 0s - loss: 0.5687 - acc: 0.8800\n",
      "Epoch 24/100\n",
      "75/75 - 0s - loss: 0.5405 - acc: 0.8800\n",
      "Epoch 25/100\n",
      "75/75 - 0s - loss: 0.5150 - acc: 0.8800\n",
      "Epoch 26/100\n",
      "75/75 - 0s - loss: 0.4910 - acc: 0.8800\n",
      "Epoch 27/100\n",
      "75/75 - 0s - loss: 0.4692 - acc: 0.8933\n",
      "Epoch 28/100\n",
      "75/75 - 0s - loss: 0.4484 - acc: 0.9067\n",
      "Epoch 29/100\n",
      "75/75 - 0s - loss: 0.4283 - acc: 0.9333\n",
      "Epoch 30/100\n",
      "75/75 - 0s - loss: 0.4099 - acc: 0.9333\n",
      "Epoch 31/100\n",
      "75/75 - 0s - loss: 0.3928 - acc: 0.9333\n",
      "Epoch 32/100\n",
      "75/75 - 0s - loss: 0.3762 - acc: 0.9733\n",
      "Epoch 33/100\n",
      "75/75 - 0s - loss: 0.3604 - acc: 0.9733\n",
      "Epoch 34/100\n",
      "75/75 - 0s - loss: 0.3454 - acc: 0.9733\n",
      "Epoch 35/100\n",
      "75/75 - 0s - loss: 0.3318 - acc: 0.9733\n",
      "Epoch 36/100\n",
      "75/75 - 0s - loss: 0.3184 - acc: 0.9733\n",
      "Epoch 37/100\n",
      "75/75 - 0s - loss: 0.3058 - acc: 0.9733\n",
      "Epoch 38/100\n",
      "75/75 - 0s - loss: 0.2947 - acc: 0.9733\n",
      "Epoch 39/100\n",
      "75/75 - 0s - loss: 0.2826 - acc: 0.9733\n",
      "Epoch 40/100\n",
      "75/75 - 0s - loss: 0.2719 - acc: 0.9733\n",
      "Epoch 41/100\n",
      "75/75 - 0s - loss: 0.2612 - acc: 0.9733\n",
      "Epoch 42/100\n",
      "75/75 - 0s - loss: 0.2515 - acc: 0.9733\n",
      "Epoch 43/100\n",
      "75/75 - 0s - loss: 0.2422 - acc: 0.9867\n",
      "Epoch 44/100\n",
      "75/75 - 0s - loss: 0.2338 - acc: 0.9867\n",
      "Epoch 45/100\n",
      "75/75 - 0s - loss: 0.2256 - acc: 0.9867\n",
      "Epoch 46/100\n",
      "75/75 - 0s - loss: 0.2174 - acc: 0.9867\n",
      "Epoch 47/100\n",
      "75/75 - 0s - loss: 0.2105 - acc: 0.9867\n",
      "Epoch 48/100\n",
      "75/75 - 0s - loss: 0.2032 - acc: 0.9867\n",
      "Epoch 49/100\n",
      "75/75 - 0s - loss: 0.1968 - acc: 0.9867\n",
      "Epoch 50/100\n",
      "75/75 - 0s - loss: 0.1903 - acc: 0.9867\n",
      "Epoch 51/100\n",
      "75/75 - 0s - loss: 0.1848 - acc: 0.9867\n",
      "Epoch 52/100\n",
      "75/75 - 0s - loss: 0.1789 - acc: 0.9867\n",
      "Epoch 53/100\n",
      "75/75 - 0s - loss: 0.1736 - acc: 0.9867\n",
      "Epoch 54/100\n",
      "75/75 - 0s - loss: 0.1683 - acc: 0.9867\n",
      "Epoch 55/100\n",
      "75/75 - 0s - loss: 0.1634 - acc: 0.9867\n",
      "Epoch 56/100\n",
      "75/75 - 0s - loss: 0.1586 - acc: 0.9867\n",
      "Epoch 57/100\n",
      "75/75 - 0s - loss: 0.1542 - acc: 0.9867\n",
      "Epoch 58/100\n",
      "75/75 - 0s - loss: 0.1503 - acc: 1.0000\n",
      "Epoch 59/100\n",
      "75/75 - 0s - loss: 0.1457 - acc: 1.0000\n",
      "Epoch 60/100\n",
      "75/75 - 0s - loss: 0.1416 - acc: 1.0000\n",
      "Epoch 61/100\n",
      "75/75 - 0s - loss: 0.1379 - acc: 1.0000\n",
      "Epoch 62/100\n",
      "75/75 - 0s - loss: 0.1339 - acc: 1.0000\n",
      "Epoch 63/100\n",
      "75/75 - 0s - loss: 0.1303 - acc: 1.0000\n",
      "Epoch 64/100\n",
      "75/75 - 0s - loss: 0.1269 - acc: 1.0000\n",
      "Epoch 65/100\n",
      "75/75 - 0s - loss: 0.1234 - acc: 1.0000\n",
      "Epoch 66/100\n",
      "75/75 - 0s - loss: 0.1204 - acc: 1.0000\n",
      "Epoch 67/100\n",
      "75/75 - 0s - loss: 0.1172 - acc: 1.0000\n",
      "Epoch 68/100\n",
      "75/75 - 0s - loss: 0.1142 - acc: 1.0000\n",
      "Epoch 69/100\n",
      "75/75 - 0s - loss: 0.1115 - acc: 1.0000\n",
      "Epoch 70/100\n",
      "75/75 - 0s - loss: 0.1087 - acc: 1.0000\n",
      "Epoch 71/100\n",
      "75/75 - 0s - loss: 0.1060 - acc: 1.0000\n",
      "Epoch 72/100\n",
      "75/75 - 0s - loss: 0.1033 - acc: 1.0000\n",
      "Epoch 73/100\n",
      "75/75 - 0s - loss: 0.1007 - acc: 1.0000\n",
      "Epoch 74/100\n",
      "75/75 - 0s - loss: 0.0983 - acc: 1.0000\n",
      "Epoch 75/100\n",
      "75/75 - 0s - loss: 0.0959 - acc: 1.0000\n",
      "Epoch 76/100\n",
      "75/75 - 0s - loss: 0.0932 - acc: 1.0000\n",
      "Epoch 77/100\n",
      "75/75 - 0s - loss: 0.0911 - acc: 1.0000\n",
      "Epoch 78/100\n",
      "75/75 - 0s - loss: 0.0889 - acc: 1.0000\n",
      "Epoch 79/100\n",
      "75/75 - 0s - loss: 0.0870 - acc: 1.0000\n",
      "Epoch 80/100\n",
      "75/75 - 0s - loss: 0.0848 - acc: 1.0000\n",
      "Epoch 81/100\n",
      "75/75 - 0s - loss: 0.0831 - acc: 1.0000\n",
      "Epoch 82/100\n",
      "75/75 - 0s - loss: 0.0812 - acc: 1.0000\n",
      "Epoch 83/100\n",
      "75/75 - 0s - loss: 0.0795 - acc: 1.0000\n",
      "Epoch 84/100\n",
      "75/75 - 0s - loss: 0.0778 - acc: 1.0000\n",
      "Epoch 85/100\n",
      "75/75 - 0s - loss: 0.0762 - acc: 1.0000\n",
      "Epoch 86/100\n",
      "75/75 - 0s - loss: 0.0747 - acc: 1.0000\n",
      "Epoch 87/100\n",
      "75/75 - 0s - loss: 0.0731 - acc: 1.0000\n",
      "Epoch 88/100\n",
      "75/75 - 0s - loss: 0.0717 - acc: 1.0000\n",
      "Epoch 89/100\n",
      "75/75 - 0s - loss: 0.0702 - acc: 1.0000\n",
      "Epoch 90/100\n",
      "75/75 - 0s - loss: 0.0687 - acc: 1.0000\n",
      "Epoch 91/100\n",
      "75/75 - 0s - loss: 0.0674 - acc: 1.0000\n",
      "Epoch 92/100\n",
      "75/75 - 0s - loss: 0.0660 - acc: 1.0000\n",
      "Epoch 93/100\n",
      "75/75 - 0s - loss: 0.0648 - acc: 1.0000\n",
      "Epoch 94/100\n",
      "75/75 - 0s - loss: 0.0635 - acc: 1.0000\n",
      "Epoch 95/100\n",
      "75/75 - 0s - loss: 0.0622 - acc: 1.0000\n",
      "Epoch 96/100\n",
      "75/75 - 0s - loss: 0.0612 - acc: 1.0000\n",
      "Epoch 97/100\n",
      "75/75 - 0s - loss: 0.0600 - acc: 1.0000\n",
      "Epoch 98/100\n",
      "75/75 - 0s - loss: 0.0590 - acc: 1.0000\n",
      "Epoch 99/100\n",
      "75/75 - 0s - loss: 0.0578 - acc: 1.0000\n",
      "Epoch 100/100\n",
      "75/75 - 0s - loss: 0.0567 - acc: 1.0000\n"
     ]
    }
   ],
   "source": [
    " # Fit (train) the model\n",
    "history = model.fit(\n",
    "    X_train_scaled,\n",
    "    y_train_categorical,\n",
    "    epochs=100,\n",
    "    shuffle=True,\n",
    "    verbose=2\n",
    ")"
   ]
  },
  {
   "cell_type": "code",
   "execution_count": 21,
   "metadata": {},
   "outputs": [
    {
     "name": "stdout",
     "output_type": "stream",
     "text": [
      "26/26 - 0s - loss: 0.0915 - acc: 1.0000\n",
      "Loss: 0.09154745191335678, Accuracy: 1.0\n"
     ]
    }
   ],
   "source": [
    "# Evaluate the model using the testing data\n",
    "model_loss, model_accuracy = model.evaluate(\n",
    "    X_test_scaled, y_test_categorical, verbose=2)\n",
    "print(f\"Loss: {model_loss}, Accuracy: {model_accuracy}\")"
   ]
  },
  {
   "cell_type": "code",
   "execution_count": 22,
   "metadata": {},
   "outputs": [
    {
     "name": "stdout",
     "output_type": "stream",
     "text": [
      "dict_keys(['loss', 'acc'])\n"
     ]
    }
   ],
   "source": [
    "print(history.history.keys())"
   ]
  },
  {
   "cell_type": "code",
   "execution_count": 23,
   "metadata": {},
   "outputs": [],
   "source": [
    "import matplotlib.pyplot as plt"
   ]
  },
  {
   "cell_type": "code",
   "execution_count": 24,
   "metadata": {},
   "outputs": [
    {
     "data": {
      "image/png": "[encoded data removed]",
      "text/plain": [
       "<Figure size 432x288 with 1 Axes>"
      ]
     },
     "metadata": {
      "needs_background": "light"
     },
     "output_type": "display_data"
    }
   ],
   "source": [
    "#creating a plot to display accurancy over each epoch\n",
    "plt.plot(history.history['acc'])\n",
    "plt.title('Training Accuracy')\n",
    "plt.ylabel('Accuracy')\n",
    "plt.xlabel('Epoch')\n",
    "plt.legend(['Train Data'], loc='lower right')\n",
    "plt.show()"
   ]
  },
  {
   "cell_type": "code",
   "execution_count": null,
   "metadata": {},
   "outputs": [],
   "source": []
  }
 ],
 "metadata": {
  "kernelspec": {
   "display_name": "Python 3",
   "language": "python",
   "name": "python3"
  },
  "language_info": {
   "codemirror_mode": {
    "name": "ipython",
    "version": 3
   },
   "file_extension": ".py",
   "mimetype": "text/x-python",
   "name": "python",
   "nbconvert_exporter": "python",
   "pygments_lexer": "ipython3",
   "version": "3.6.10"
  }
 },
 "nbformat": 4,
 "nbformat_minor": 4
}
